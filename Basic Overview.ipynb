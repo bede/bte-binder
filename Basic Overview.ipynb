{
 "cells": [
  {
   "cell_type": "code",
   "execution_count": 2,
   "id": "3732de05",
   "metadata": {},
   "outputs": [],
   "source": [
    "import pandas as pd\n",
    "import numpy as np\n",
    "import seaborn as sns\n",
    "import matplotlib.pyplot as plt\n",
    "import toytree as ttplt\n",
    "import bte"
   ]
  },
  {
   "cell_type": "markdown",
   "id": "8b761bce",
   "metadata": {},
   "source": [
    "The BTE package allows comprehensive analysis of the entire SARS-CoV-2 phylogenetic tree, including millions of samples of data!\n",
    "\n",
    "The power of the Mutation Annotated Tree is that it is a compact representation of an incredible amount of data in a single object. While many analyses are technically possible with extremely large VCFs, or just a Newick, or just a metadata table with clade annotations, only the combined MAT allows any and all of these analyses on a single integrated dataset.\n",
    "\n",
    "First, we must load the tree from a protocol buffer storage into our MATree class object. The loading process is multithreaded."
   ]
  },
  {
   "cell_type": "code",
   "execution_count": 3,
   "id": "2731ec9f",
   "metadata": {},
   "outputs": [
    {
     "name": "stdout",
     "output_type": "stream",
     "text": [
      "Finished 'from_pb' in 24.4196 seconds\n"
     ]
    }
   ],
   "source": [
    "mat = bte.MATree(\"public-2022-04-08.all.masked.nextclade.pangolin.pb.gz\")"
   ]
  },
  {
   "cell_type": "markdown",
   "id": "40c29226",
   "metadata": {},
   "source": [
    "BTE includes numerous functions for tree summarization, including total parsimony and counts of mutations sorted by type of mutation."
   ]
  },
  {
   "cell_type": "code",
   "execution_count": 4,
   "id": "0c7107b0",
   "metadata": {},
   "outputs": [
    {
     "name": "stdout",
     "output_type": "stream",
     "text": [
      "Finished 'get_leaves_ids' in 2.0481 seconds\n"
     ]
    },
    {
     "data": {
      "text/plain": [
       "(4727267, 3813200)"
      ]
     },
     "execution_count": 4,
     "metadata": {},
     "output_type": "execute_result"
    }
   ],
   "source": [
    "ps = mat.get_parsimony_score()\n",
    "samples = mat.get_leaves_ids()\n",
    "samplecount = len(samples)\n",
    "samplecount, ps"
   ]
  },
  {
   "cell_type": "code",
   "execution_count": 5,
   "id": "2d1445f3",
   "metadata": {},
   "outputs": [
    {
     "name": "stderr",
     "output_type": "stream",
     "text": [
      "/Users/jmcbr/opt/anaconda3/envs/btebind/lib/python3.8/site-packages/seaborn/_decorators.py:36: FutureWarning: Pass the following variables as keyword args: x, y. From version 0.12, the only valid positional argument will be `data`, and passing other arguments without an explicit keyword will result in an error or misinterpretation.\n",
      "  warnings.warn(\n"
     ]
    },
    {
     "data": {
      "text/plain": [
       "Text(0.5, 0, 'Type')"
      ]
     },
     "execution_count": 5,
     "metadata": {},
     "output_type": "execute_result"
    },
    {
     "data": {
      "image/png": "[encoded data removed]",
      "text/plain": [
       "<Figure size 432x288 with 1 Axes>"
      ]
     },
     "metadata": {
      "needs_background": "light"
     },
     "output_type": "display_data"
    }
   ],
   "source": [
    "mcount = mat.count_mutations()\n",
    "ax = sns.barplot(list(mcount.keys()),list(mcount.values()))\n",
    "ax.set_ylabel(\"Count\")\n",
    "ax.set_xlabel(\"Type\")"
   ]
  },
  {
   "cell_type": "markdown",
   "id": "c5d823a7",
   "metadata": {},
   "source": [
    "The MAT object can contain clade and lineage annotations, which can be easily extracted by BTE."
   ]
  },
  {
   "cell_type": "code",
   "execution_count": 9,
   "id": "d8c5a704",
   "metadata": {},
   "outputs": [
    {
     "name": "stdout",
     "output_type": "stream",
     "text": [
      "Getting clade: BA.1.1\n",
      "Successfully found 383407 samples.\n"
     ]
    },
    {
     "name": "stderr",
     "output_type": "stream",
     "text": [
      "Large sample input; building subtree by pruning all but 383407 samples.\n",
      "Completed in 20028 msec \n",
      "\n"
     ]
    },
    {
     "ename": "AttributeError",
     "evalue": "'bte.MATree' object has no attribute 'get_samples_ids'",
     "output_type": "error",
     "traceback": [
      "\u001b[0;31m---------------------------------------------------------------------------\u001b[0m",
      "\u001b[0;31mAttributeError\u001b[0m                            Traceback (most recent call last)",
      "Input \u001b[0;32mIn [9]\u001b[0m, in \u001b[0;36m<cell line: 2>\u001b[0;34m()\u001b[0m\n\u001b[1;32m      1\u001b[0m omicron \u001b[38;5;241m=\u001b[39m mat\u001b[38;5;241m.\u001b[39mget_clade(\u001b[38;5;124m\"\u001b[39m\u001b[38;5;124mBA.1.1\u001b[39m\u001b[38;5;124m\"\u001b[39m)\n\u001b[0;32m----> 2\u001b[0m \u001b[38;5;28mlen\u001b[39m(\u001b[43momicron\u001b[49m\u001b[38;5;241;43m.\u001b[39;49m\u001b[43mget_samples_ids\u001b[49m())\n",
      "\u001b[0;31mAttributeError\u001b[0m: 'bte.MATree' object has no attribute 'get_samples_ids'"
     ]
    }
   ],
   "source": [
    "omicron = mat.get_clade(\"BA.1.1\")"
   ]
  },
  {
   "cell_type": "code",
   "execution_count": 10,
   "id": "fddfad83",
   "metadata": {},
   "outputs": [
    {
     "name": "stdout",
     "output_type": "stream",
     "text": [
      "Finished 'get_leaves_ids' in 0.2412 seconds\n"
     ]
    },
    {
     "data": {
      "text/plain": [
       "383407"
      ]
     },
     "execution_count": 10,
     "metadata": {},
     "output_type": "execute_result"
    }
   ],
   "source": [
    "len(omicron.get_leaves_ids())"
   ]
  },
  {
   "cell_type": "markdown",
   "id": "7aeffac8",
   "metadata": {},
   "source": [
    "BTE includes additional useful functions for computing phylogenetic statistics."
   ]
  },
  {
   "cell_type": "code",
   "execution_count": 12,
   "id": "6e32af04",
   "metadata": {},
   "outputs": [
    {
     "ename": "AssertionError",
     "evalue": "",
     "output_type": "error",
     "traceback": [
      "\u001b[0;31m---------------------------------------------------------------------------\u001b[0m",
      "\u001b[0;31mAssertionError\u001b[0m                            Traceback (most recent call last)",
      "Input \u001b[0;32mIn [12]\u001b[0m, in \u001b[0;36m<cell line: 1>\u001b[0;34m()\u001b[0m\n\u001b[0;32m----> 1\u001b[0m nd \u001b[38;5;241m=\u001b[39m \u001b[43momicron\u001b[49m\u001b[38;5;241;43m.\u001b[39;49m\u001b[43mcompute_nucleotide_diversity\u001b[49m\u001b[43m(\u001b[49m\u001b[43m)\u001b[49m\n\u001b[1;32m      2\u001b[0m nd\n",
      "File \u001b[0;32msrc/bte.pyx:174\u001b[0m, in \u001b[0;36mbte.MATree._check_newick_only.wrap\u001b[0;34m()\u001b[0m\n",
      "File \u001b[0;32msrc/bte.pyx:599\u001b[0m, in \u001b[0;36mbte.MATree.compute_nucleotide_diversity\u001b[0;34m()\u001b[0m\n",
      "\u001b[0;31mAssertionError\u001b[0m: "
     ]
    }
   ],
   "source": [
    "nd = omicron.compute_nucleotide_diversity()\n",
    "nd"
   ]
  },
  {
   "cell_type": "markdown",
   "id": "11f8cb47",
   "metadata": {},
   "source": [
    "BTE can select subtrees by whether they contain samples which match arbitrary regex patterns. As SARS-CoV-2 samples generally are uploaded with a standardized name pattern, we can use this to extract samples collected on a specific day or from a particular area."
   ]
  },
  {
   "cell_type": "code",
   "execution_count": 51,
   "id": "f34d3329",
   "metadata": {},
   "outputs": [
    {
     "data": {
      "text/plain": [
       "111"
      ]
     },
     "execution_count": 51,
     "metadata": {},
     "output_type": "execute_result"
    }
   ],
   "source": [
    "#samples collected in California on March 17th, 2022.\n",
    "selection = mat.get_regex_samples(\"USA/CA.*2022-03-17\")\n",
    "len(selection)"
   ]
  },
  {
   "cell_type": "markdown",
   "id": "e2fbbaaf",
   "metadata": {},
   "source": [
    "There are a number of tree visualization packages available across different platforms. For visualization of thousands to millions of samples, we recommend creating a Taxonium protocol buffer using the matUtils command line toolkit. "
   ]
  },
  {
   "cell_type": "code",
   "execution_count": 54,
   "id": "42214214",
   "metadata": {},
   "outputs": [
    {
     "name": "stderr",
     "output_type": "stream",
     "text": [
      "Extracting subtree of 111 samples.\n"
     ]
    },
    {
     "name": "stdout",
     "output_type": "stream",
     "text": [
      "Finished 'subtree' in 0.3234 seconds\n"
     ]
    },
    {
     "name": "stderr",
     "output_type": "stream",
     "text": [
      "Completed in 323 msec \n",
      "\n"
     ]
    },
    {
     "data": {
      "text/html": [
       "<div class=\"toyplot\" id=\"t74c57d13eec74297881b79c4581cbfeb\" style=\"text-align:center\"><svg class=\"toyplot-canvas-Canvas\" xmlns:toyplot=\"http://www.sandia.gov/toyplot\" xmlns:xlink=\"http://www.w3.org/1999/xlink\" xmlns=\"http://www.w3.org/2000/svg\" width=\"500.0px\" height=\"1200.0px\" viewBox=\"0 0 500.0 1200.0\" preserveAspectRatio=\"xMidYMid meet\" style=\"background-color:transparent;border-color:#292724;border-style:none;border-width:1.0;fill:rgb(16.1%,15.3%,14.1%);fill-opacity:1.0;font-family:Helvetica;font-size:12px;opacity:1.0;stroke:rgb(16.1%,15.3%,14.1%);stroke-opacity:1.0;stroke-width:1.0\" id=\"t1b27837882f34540bff235fc8645d90c\"><g class=\"toyplot-coordinates-Cartesian\" id=\"tf67c484deadd4c8ab254de2fba2560c7\"><clipPath id=\"t1d1de4bc85f14926b0217f599409ce10\"><rect x=\"30.0\" y=\"30.0\" width=\"440.0\" height=\"1140.0\"></rect></clipPath><g clip-path=\"url(#t1d1de4bc85f14926b0217f599409ce10)\"><g class=\"toytree-mark-Toytree\" id=\"td4fe476059f4435daa05f28c1cdd079e\"><g class=\"toytree-Edges\" style=\"fill:none;stroke:rgb(14.9%,14.9%,14.9%);stroke-linecap:round;stroke-opacity:1;stroke-width:2\"><path d=\"M 50.8 452.0 L 50.8 164.9 L 73.4 164.9\" id=\"142,141\"></path><path d=\"M 50.8 452.0 L 50.8 739.1 L 73.4 739.1\" id=\"142,140\"></path><path d=\"M 73.4 164.9 L 73.4 189.1 L 95.9 189.1\" id=\"141,139\"></path><path d=\"M 73.4 739.1 L 73.4 725.8 L 95.9 725.8\" id=\"140,138\"></path><path d=\"M 73.4 739.1 L 73.4 744.0 L 95.9 744.0\" id=\"140,137\"></path><path d=\"M 73.4 739.1 L 73.4 762.1 L 95.9 762.1\" id=\"140,136\"></path><path d=\"M 73.4 739.1 L 73.4 794.8 L 95.9 794.8\" id=\"140,135\"></path><path d=\"M 73.4 739.1 L 73.4 850.1 L 95.9 850.1\" id=\"140,134\"></path><path d=\"M 73.4 739.1 L 73.4 910.4 L 95.9 910.4\" id=\"140,133\"></path><path d=\"M 73.4 739.1 L 73.4 1062.8 L 95.9 1062.8\" id=\"140,132\"></path><path d=\"M 95.9 189.1 L 95.9 190.6 L 118.5 190.6\" id=\"139,131\"></path><path d=\"M 95.9 189.1 L 95.9 213.3 L 118.5 213.3\" id=\"139,130\"></path><path d=\"M 95.9 189.1 L 95.9 266.3 L 118.5 266.3\" id=\"139,129\"></path><path d=\"M 95.9 794.8 L 95.9 816.5 L 118.5 816.5\" id=\"135,128\"></path><path d=\"M 95.9 850.1 L 95.9 875.5 L 118.5 875.5\" id=\"134,127\"></path><path d=\"M 95.9 910.4 L 95.9 934.9 L 118.5 934.9\" id=\"133,126\"></path><path d=\"M 95.9 1062.8 L 95.9 1115.9 L 118.5 1115.9\" id=\"132,125\"></path><path d=\"M 95.9 1062.8 L 95.9 1134.0 L 118.5 1134.0\" id=\"132,124\"></path><path d=\"M 118.5 266.3 L 118.5 301.3 L 141.1 301.3\" id=\"129,123\"></path><path d=\"M 118.5 934.9 L 118.5 943.5 L 141.1 943.5\" id=\"126,122\"></path><path d=\"M 118.5 934.9 L 118.5 968.5 L 141.1 968.5\" id=\"126,121\"></path><path d=\"M 141.1 301.3 L 141.1 317.6 L 163.6 317.6\" id=\"123,120\"></path><path d=\"M 141.1 301.3 L 141.1 341.8 L 163.6 341.8\" id=\"123,119\"></path><path d=\"M 141.1 301.3 L 141.1 476.5 L 163.6 476.5\" id=\"123,118\"></path><path d=\"M 141.1 968.5 L 141.1 979.8 L 163.6 979.8\" id=\"121,117\"></path><path d=\"M 163.6 341.8 L 163.6 353.9 L 186.2 353.9\" id=\"119,116\"></path><path d=\"M 163.6 476.5 L 163.6 544.4 L 186.2 544.4\" id=\"118,115\"></path><path d=\"M 163.6 476.5 L 163.6 562.5 L 186.2 562.5\" id=\"118,114\"></path><path d=\"M 163.6 476.5 L 163.6 580.7 L 186.2 580.7\" id=\"118,113\"></path><path d=\"M 163.6 476.5 L 163.6 598.8 L 186.2 598.8\" id=\"118,112\"></path><path d=\"M 163.6 476.5 L 163.6 617.0 L 186.2 617.0\" id=\"118,111\"></path><path d=\"M 73.4 164.9 L 73.4 140.7 L 95.9 140.7\" id=\"141,110\"></path><path d=\"M 95.9 189.1 L 95.9 149.8 L 118.5 149.8\" id=\"139,109\"></path><path d=\"M 95.9 189.1 L 95.9 158.9 L 118.5 158.9\" id=\"139,108\"></path><path d=\"M 95.9 189.1 L 95.9 167.9 L 118.5 167.9\" id=\"139,107\"></path><path d=\"M 95.9 189.1 L 95.9 177.0 L 118.5 177.0\" id=\"139,106\"></path><path d=\"M 118.5 190.6 L 118.5 186.1 L 141.1 186.1\" id=\"131,105\"></path><path d=\"M 118.5 190.6 L 118.5 195.1 L 141.1 195.1\" id=\"131,104\"></path><path d=\"M 118.5 213.3 L 118.5 204.2 L 141.1 204.2\" id=\"130,103\"></path><path d=\"M 118.5 213.3 L 118.5 213.3 L 141.1 213.3\" id=\"130,102\"></path><path d=\"M 118.5 213.3 L 118.5 222.4 L 141.1 222.4\" id=\"130,101\"></path><path d=\"M 118.5 266.3 L 118.5 231.4 L 141.1 231.4\" id=\"129,100\"></path><path d=\"M 141.1 301.3 L 141.1 240.5 L 163.6 240.5\" id=\"123,99\"></path><path d=\"M 141.1 301.3 L 141.1 249.6 L 163.6 249.6\" id=\"123,98\"></path><path d=\"M 141.1 301.3 L 141.1 258.6 L 163.6 258.6\" id=\"123,97\"></path><path d=\"M 141.1 301.3 L 141.1 267.7 L 163.6 267.7\" id=\"123,96\"></path><path d=\"M 141.1 301.3 L 141.1 276.8 L 163.6 276.8\" id=\"123,95\"></path><path d=\"M 141.1 301.3 L 141.1 285.9 L 163.6 285.9\" id=\"123,94\"></path><path d=\"M 141.1 301.3 L 141.1 294.9 L 163.6 294.9\" id=\"123,93\"></path><path d=\"M 141.1 301.3 L 141.1 304.0 L 163.6 304.0\" id=\"123,92\"></path><path d=\"M 163.6 317.6 L 163.6 313.1 L 186.2 313.1\" id=\"120,91\"></path><path d=\"M 163.6 317.6 L 163.6 322.1 L 186.2 322.1\" id=\"120,90\"></path><path d=\"M 163.6 341.8 L 163.6 331.2 L 186.2 331.2\" id=\"119,89\"></path><path d=\"M 163.6 341.8 L 163.6 340.3 L 186.2 340.3\" id=\"119,88\"></path><path d=\"M 186.2 353.9 L 186.2 349.4 L 208.8 349.4\" id=\"116,87\"></path><path d=\"M 186.2 353.9 L 186.2 358.4 L 208.8 358.4\" id=\"116,86\"></path><path d=\"M 163.6 476.5 L 163.6 367.5 L 186.2 367.5\" id=\"118,85\"></path><path d=\"M 163.6 476.5 L 163.6 376.6 L 186.2 376.6\" id=\"118,84\"></path><path d=\"M 163.6 476.5 L 163.6 385.6 L 186.2 385.6\" id=\"118,83\"></path><path d=\"M 163.6 476.5 L 163.6 394.7 L 186.2 394.7\" id=\"118,82\"></path><path d=\"M 163.6 476.5 L 163.6 403.8 L 186.2 403.8\" id=\"118,81\"></path><path d=\"M 163.6 476.5 L 163.6 412.9 L 186.2 412.9\" id=\"118,80\"></path><path d=\"M 163.6 476.5 L 163.6 421.9 L 186.2 421.9\" id=\"118,79\"></path><path d=\"M 163.6 476.5 L 163.6 431.0 L 186.2 431.0\" id=\"118,78\"></path><path d=\"M 163.6 476.5 L 163.6 440.1 L 186.2 440.1\" id=\"118,77\"></path><path d=\"M 163.6 476.5 L 163.6 449.1 L 186.2 449.1\" id=\"118,76\"></path><path d=\"M 163.6 476.5 L 163.6 458.2 L 186.2 458.2\" id=\"118,75\"></path><path d=\"M 163.6 476.5 L 163.6 467.3 L 186.2 467.3\" id=\"118,74\"></path><path d=\"M 163.6 476.5 L 163.6 476.4 L 186.2 476.4\" id=\"118,73\"></path><path d=\"M 163.6 476.5 L 163.6 485.4 L 186.2 485.4\" id=\"118,72\"></path><path d=\"M 163.6 476.5 L 163.6 494.5 L 186.2 494.5\" id=\"118,71\"></path><path d=\"M 163.6 476.5 L 163.6 503.6 L 186.2 503.6\" id=\"118,70\"></path><path d=\"M 163.6 476.5 L 163.6 512.6 L 186.2 512.6\" id=\"118,69\"></path><path d=\"M 163.6 476.5 L 163.6 521.7 L 186.2 521.7\" id=\"118,68\"></path><path d=\"M 163.6 476.5 L 163.6 530.8 L 186.2 530.8\" id=\"118,67\"></path><path d=\"M 186.2 544.4 L 186.2 539.9 L 208.8 539.9\" id=\"115,66\"></path><path d=\"M 186.2 544.4 L 186.2 548.9 L 208.8 548.9\" id=\"115,65\"></path><path d=\"M 186.2 562.5 L 186.2 558.0 L 208.8 558.0\" id=\"114,64\"></path><path d=\"M 186.2 562.5 L 186.2 567.1 L 208.8 567.1\" id=\"114,63\"></path><path d=\"M 186.2 580.7 L 186.2 576.1 L 208.8 576.1\" id=\"113,62\"></path><path d=\"M 186.2 580.7 L 186.2 585.2 L 208.8 585.2\" id=\"113,61\"></path><path d=\"M 186.2 598.8 L 186.2 594.3 L 208.8 594.3\" id=\"112,60\"></path><path d=\"M 186.2 598.8 L 186.2 603.4 L 208.8 603.4\" id=\"112,59\"></path><path d=\"M 186.2 617.0 L 186.2 612.4 L 208.8 612.4\" id=\"111,58\"></path><path d=\"M 186.2 617.0 L 186.2 621.5 L 208.8 621.5\" id=\"111,57\"></path><path d=\"M 73.4 739.1 L 73.4 630.6 L 95.9 630.6\" id=\"140,56\"></path><path d=\"M 73.4 739.1 L 73.4 639.6 L 95.9 639.6\" id=\"140,55\"></path><path d=\"M 73.4 739.1 L 73.4 648.7 L 95.9 648.7\" id=\"140,54\"></path><path d=\"M 73.4 739.1 L 73.4 657.8 L 95.9 657.8\" id=\"140,53\"></path><path d=\"M 73.4 739.1 L 73.4 666.9 L 95.9 666.9\" id=\"140,52\"></path><path d=\"M 73.4 739.1 L 73.4 675.9 L 95.9 675.9\" id=\"140,51\"></path><path d=\"M 73.4 739.1 L 73.4 685.0 L 95.9 685.0\" id=\"140,50\"></path><path d=\"M 73.4 739.1 L 73.4 694.1 L 95.9 694.1\" id=\"140,49\"></path><path d=\"M 73.4 739.1 L 73.4 703.1 L 95.9 703.1\" id=\"140,48\"></path><path d=\"M 73.4 739.1 L 73.4 712.2 L 95.9 712.2\" id=\"140,47\"></path><path d=\"M 95.9 725.8 L 95.9 721.3 L 118.5 721.3\" id=\"138,46\"></path><path d=\"M 95.9 725.8 L 95.9 730.4 L 118.5 730.4\" id=\"138,45\"></path><path d=\"M 95.9 744.0 L 95.9 739.4 L 118.5 739.4\" id=\"137,44\"></path><path d=\"M 95.9 744.0 L 95.9 748.5 L 118.5 748.5\" id=\"137,43\"></path><path d=\"M 95.9 762.1 L 95.9 757.6 L 118.5 757.6\" id=\"136,42\"></path><path d=\"M 95.9 762.1 L 95.9 766.6 L 118.5 766.6\" id=\"136,41\"></path><path d=\"M 95.9 794.8 L 95.9 775.7 L 118.5 775.7\" id=\"135,40\"></path><path d=\"M 95.9 794.8 L 95.9 784.8 L 118.5 784.8\" id=\"135,39\"></path><path d=\"M 95.9 794.8 L 95.9 793.9 L 118.5 793.9\" id=\"135,38\"></path><path d=\"M 95.9 794.8 L 95.9 802.9 L 118.5 802.9\" id=\"135,37\"></path><path d=\"M 118.5 816.5 L 118.5 812.0 L 141.1 812.0\" id=\"128,36\"></path><path d=\"M 118.5 816.5 L 118.5 821.1 L 141.1 821.1\" id=\"128,35\"></path><path d=\"M 95.9 850.1 L 95.9 830.1 L 118.5 830.1\" id=\"134,34\"></path><path d=\"M 95.9 850.1 L 95.9 839.2 L 118.5 839.2\" id=\"134,33\"></path><path d=\"M 95.9 850.1 L 95.9 848.3 L 118.5 848.3\" id=\"134,32\"></path><path d=\"M 95.9 850.1 L 95.9 857.4 L 118.5 857.4\" id=\"134,31\"></path><path d=\"M 118.5 875.5 L 118.5 866.4 L 141.1 866.4\" id=\"127,30\"></path><path d=\"M 118.5 875.5 L 118.5 875.5 L 141.1 875.5\" id=\"127,29\"></path><path d=\"M 118.5 875.5 L 118.5 884.6 L 141.1 884.6\" id=\"127,28\"></path><path d=\"M 95.9 910.4 L 95.9 893.6 L 118.5 893.6\" id=\"133,27\"></path><path d=\"M 95.9 910.4 L 95.9 902.7 L 118.5 902.7\" id=\"133,26\"></path><path d=\"M 118.5 934.9 L 118.5 911.8 L 141.1 911.8\" id=\"126,25\"></path><path d=\"M 118.5 934.9 L 118.5 920.9 L 141.1 920.9\" id=\"126,24\"></path><path d=\"M 118.5 934.9 L 118.5 929.9 L 141.1 929.9\" id=\"126,23\"></path><path d=\"M 141.1 943.5 L 141.1 939.0 L 163.6 939.0\" id=\"122,22\"></path><path d=\"M 141.1 943.5 L 141.1 948.1 L 163.6 948.1\" id=\"122,21\"></path><path d=\"M 141.1 968.5 L 141.1 957.1 L 163.6 957.1\" id=\"121,20\"></path><path d=\"M 163.6 979.8 L 163.6 966.2 L 186.2 966.2\" id=\"117,19\"></path><path d=\"M 163.6 979.8 L 163.6 975.3 L 186.2 975.3\" id=\"117,18\"></path><path d=\"M 163.6 979.8 L 163.6 984.4 L 186.2 984.4\" id=\"117,17\"></path><path d=\"M 163.6 979.8 L 163.6 993.4 L 186.2 993.4\" id=\"117,16\"></path><path d=\"M 95.9 1062.8 L 95.9 1002.5 L 118.5 1002.5\" id=\"132,15\"></path><path d=\"M 95.9 1062.8 L 95.9 1011.6 L 118.5 1011.6\" id=\"132,14\"></path><path d=\"M 95.9 1062.8 L 95.9 1020.6 L 118.5 1020.6\" id=\"132,13\"></path><path d=\"M 95.9 1062.8 L 95.9 1029.7 L 118.5 1029.7\" id=\"132,12\"></path><path d=\"M 95.9 1062.8 L 95.9 1038.8 L 118.5 1038.8\" id=\"132,11\"></path><path d=\"M 95.9 1062.8 L 95.9 1047.9 L 118.5 1047.9\" id=\"132,10\"></path><path d=\"M 95.9 1062.8 L 95.9 1056.9 L 118.5 1056.9\" id=\"132,9\"></path><path d=\"M 95.9 1062.8 L 95.9 1066.0 L 118.5 1066.0\" id=\"132,8\"></path><path d=\"M 95.9 1062.8 L 95.9 1075.1 L 118.5 1075.1\" id=\"132,7\"></path><path d=\"M 95.9 1062.8 L 95.9 1084.1 L 118.5 1084.1\" id=\"132,6\"></path><path d=\"M 95.9 1062.8 L 95.9 1093.2 L 118.5 1093.2\" id=\"132,5\"></path><path d=\"M 95.9 1062.8 L 95.9 1102.3 L 118.5 1102.3\" id=\"132,4\"></path><path d=\"M 118.5 1115.9 L 118.5 1111.4 L 141.1 1111.4\" id=\"125,3\"></path><path d=\"M 118.5 1115.9 L 118.5 1120.4 L 141.1 1120.4\" id=\"125,2\"></path><path d=\"M 118.5 1134.0 L 118.5 1129.5 L 141.1 1129.5\" id=\"124,1\"></path><path d=\"M 118.5 1134.0 L 118.5 1138.6 L 141.1 1138.6\" id=\"124,0\"></path></g><g class=\"toytree-AlignEdges\" style=\"stroke:rgb(66.3%,66.3%,66.3%);stroke-dasharray:2, 4;stroke-linecap:round;stroke-opacity:1.0;stroke-width:2\"><path d=\"M 208.8 1138.6 L 141.1 1138.6\"></path><path d=\"M 208.8 1129.5 L 141.1 1129.5\"></path><path d=\"M 208.8 1120.4 L 141.1 1120.4\"></path><path d=\"M 208.8 1111.4 L 141.1 1111.4\"></path><path d=\"M 208.8 1102.3 L 118.5 1102.3\"></path><path d=\"M 208.8 1093.2 L 118.5 1093.2\"></path><path d=\"M 208.8 1084.1 L 118.5 1084.1\"></path><path d=\"M 208.8 1075.1 L 118.5 1075.1\"></path><path d=\"M 208.8 1066.0 L 118.5 1066.0\"></path><path d=\"M 208.8 1056.9 L 118.5 1056.9\"></path><path d=\"M 208.8 1047.9 L 118.5 1047.9\"></path><path d=\"M 208.8 1038.8 L 118.5 1038.8\"></path><path d=\"M 208.8 1029.7 L 118.5 1029.7\"></path><path d=\"M 208.8 1020.6 L 118.5 1020.6\"></path><path d=\"M 208.8 1011.6 L 118.5 1011.6\"></path><path d=\"M 208.8 1002.5 L 118.5 1002.5\"></path><path d=\"M 208.8 993.4 L 186.2 993.4\"></path><path d=\"M 208.8 984.4 L 186.2 984.4\"></path><path d=\"M 208.8 975.3 L 186.2 975.3\"></path><path d=\"M 208.8 966.2 L 186.2 966.2\"></path><path d=\"M 208.8 957.1 L 163.6 957.1\"></path><path d=\"M 208.8 948.1 L 163.6 948.1\"></path><path d=\"M 208.8 939.0 L 163.6 939.0\"></path><path d=\"M 208.8 929.9 L 141.1 929.9\"></path><path d=\"M 208.8 920.9 L 141.1 920.9\"></path><path d=\"M 208.8 911.8 L 141.1 911.8\"></path><path d=\"M 208.8 902.7 L 118.5 902.7\"></path><path d=\"M 208.8 893.6 L 118.5 893.6\"></path><path d=\"M 208.8 884.6 L 141.1 884.6\"></path><path d=\"M 208.8 875.5 L 141.1 875.5\"></path><path d=\"M 208.8 866.4 L 141.1 866.4\"></path><path d=\"M 208.8 857.4 L 118.5 857.4\"></path><path d=\"M 208.8 848.3 L 118.5 848.3\"></path><path d=\"M 208.8 839.2 L 118.5 839.2\"></path><path d=\"M 208.8 830.1 L 118.5 830.1\"></path><path d=\"M 208.8 821.1 L 141.1 821.1\"></path><path d=\"M 208.8 812.0 L 141.1 812.0\"></path><path d=\"M 208.8 802.9 L 118.5 802.9\"></path><path d=\"M 208.8 793.9 L 118.5 793.9\"></path><path d=\"M 208.8 784.8 L 118.5 784.8\"></path><path d=\"M 208.8 775.7 L 118.5 775.7\"></path><path d=\"M 208.8 766.6 L 118.5 766.6\"></path><path d=\"M 208.8 757.6 L 118.5 757.6\"></path><path d=\"M 208.8 748.5 L 118.5 748.5\"></path><path d=\"M 208.8 739.4 L 118.5 739.4\"></path><path d=\"M 208.8 730.4 L 118.5 730.4\"></path><path d=\"M 208.8 721.3 L 118.5 721.3\"></path><path d=\"M 208.8 712.2 L 95.9 712.2\"></path><path d=\"M 208.8 703.1 L 95.9 703.1\"></path><path d=\"M 208.8 694.1 L 95.9 694.1\"></path><path d=\"M 208.8 685.0 L 95.9 685.0\"></path><path d=\"M 208.8 675.9 L 95.9 675.9\"></path><path d=\"M 208.8 666.9 L 95.9 666.9\"></path><path d=\"M 208.8 657.8 L 95.9 657.8\"></path><path d=\"M 208.8 648.7 L 95.9 648.7\"></path><path d=\"M 208.8 639.6 L 95.9 639.6\"></path><path d=\"M 208.8 630.6 L 95.9 630.6\"></path><path d=\"M 208.8 621.5 L 208.8 621.5\"></path><path d=\"M 208.8 612.4 L 208.8 612.4\"></path><path d=\"M 208.8 603.4 L 208.8 603.4\"></path><path d=\"M 208.8 594.3 L 208.8 594.3\"></path><path d=\"M 208.8 585.2 L 208.8 585.2\"></path><path d=\"M 208.8 576.1 L 208.8 576.1\"></path><path d=\"M 208.8 567.1 L 208.8 567.1\"></path><path d=\"M 208.8 558.0 L 208.8 558.0\"></path><path d=\"M 208.8 548.9 L 208.8 548.9\"></path><path d=\"M 208.8 539.9 L 208.8 539.9\"></path><path d=\"M 208.8 530.8 L 186.2 530.8\"></path><path d=\"M 208.8 521.7 L 186.2 521.7\"></path><path d=\"M 208.8 512.6 L 186.2 512.6\"></path><path d=\"M 208.8 503.6 L 186.2 503.6\"></path><path d=\"M 208.8 494.5 L 186.2 494.5\"></path><path d=\"M 208.8 485.4 L 186.2 485.4\"></path><path d=\"M 208.8 476.4 L 186.2 476.4\"></path><path d=\"M 208.8 467.3 L 186.2 467.3\"></path><path d=\"M 208.8 458.2 L 186.2 458.2\"></path><path d=\"M 208.8 449.1 L 186.2 449.1\"></path><path d=\"M 208.8 440.1 L 186.2 440.1\"></path><path d=\"M 208.8 431.0 L 186.2 431.0\"></path><path d=\"M 208.8 421.9 L 186.2 421.9\"></path><path d=\"M 208.8 412.9 L 186.2 412.9\"></path><path d=\"M 208.8 403.8 L 186.2 403.8\"></path><path d=\"M 208.8 394.7 L 186.2 394.7\"></path><path d=\"M 208.8 385.6 L 186.2 385.6\"></path><path d=\"M 208.8 376.6 L 186.2 376.6\"></path><path d=\"M 208.8 367.5 L 186.2 367.5\"></path><path d=\"M 208.8 358.4 L 208.8 358.4\"></path><path d=\"M 208.8 349.4 L 208.8 349.4\"></path><path d=\"M 208.8 340.3 L 186.2 340.3\"></path><path d=\"M 208.8 331.2 L 186.2 331.2\"></path><path d=\"M 208.8 322.1 L 186.2 322.1\"></path><path d=\"M 208.8 313.1 L 186.2 313.1\"></path><path d=\"M 208.8 304.0 L 163.6 304.0\"></path><path d=\"M 208.8 294.9 L 163.6 294.9\"></path><path d=\"M 208.8 285.9 L 163.6 285.9\"></path><path d=\"M 208.8 276.8 L 163.6 276.8\"></path><path d=\"M 208.8 267.7 L 163.6 267.7\"></path><path d=\"M 208.8 258.6 L 163.6 258.6\"></path><path d=\"M 208.8 249.6 L 163.6 249.6\"></path><path d=\"M 208.8 240.5 L 163.6 240.5\"></path><path d=\"M 208.8 231.4 L 141.1 231.4\"></path><path d=\"M 208.8 222.4 L 141.1 222.4\"></path><path d=\"M 208.8 213.3 L 141.1 213.3\"></path><path d=\"M 208.8 204.2 L 141.1 204.2\"></path><path d=\"M 208.8 195.1 L 141.1 195.1\"></path><path d=\"M 208.8 186.1 L 141.1 186.1\"></path><path d=\"M 208.8 177.0 L 118.5 177.0\"></path><path d=\"M 208.8 167.9 L 118.5 167.9\"></path><path d=\"M 208.8 158.9 L 118.5 158.9\"></path><path d=\"M 208.8 149.8 L 118.5 149.8\"></path><path d=\"M 208.8 140.7 L 95.9 140.7\"></path></g><g class=\"toytree-TipLabels\" style=\"fill:rgb(14.9%,14.9%,14.9%);fill-opacity:1.0;font-family:helvetica;font-size:11px;font-weight:normal;stroke:none;white-space:pre\"><g transform=\"translate(208.77,1138.57)rotate(0)\"><text x=\"15.00\" y=\"2.81\" style=\"\">USA/CA-CDC-QDX35038468/2022|ON139881.1|2022-03-17</text></g><g transform=\"translate(208.77,1129.50)rotate(0)\"><text x=\"15.00\" y=\"2.81\" style=\"\">USA/CA-CDC-ASC210736426/2022|ON106654.1|2022-03-17</text></g><g transform=\"translate(208.77,1120.43)rotate(0)\"><text x=\"15.00\" y=\"2.81\" style=\"\">USA/CA-CDC-ASC210736318/2022|ON115924.1|2022-03-17</text></g><g transform=\"translate(208.77,1111.36)rotate(0)\"><text x=\"15.00\" y=\"2.81\" style=\"\">USA/CA-CDC-ASC210845577/2022|ON106585.1|2022-03-17</text></g><g transform=\"translate(208.77,1102.28)rotate(0)\"><text x=\"15.00\" y=\"2.81\" style=\"\">USA/CA-CDC-QDX35038459/2022|ON139787.1|2022-03-17</text></g><g transform=\"translate(208.77,1093.21)rotate(0)\"><text x=\"15.00\" y=\"2.81\" style=\"\">USA/CA-CDC-STM-7PQ76Q9ZT/2022|ON143210.1|2022-03-17</text></g><g transform=\"translate(208.77,1084.14)rotate(0)\"><text x=\"15.00\" y=\"2.81\" style=\"\">USA/CA-CDC-STM-V7369CK9P/2022|ON143161.1|2022-03-17</text></g><g transform=\"translate(208.77,1075.07)rotate(0)\"><text x=\"15.00\" y=\"2.81\" style=\"\">USA/CA-CDC-ASC210846217/2022|ON144810.1|2022-03-17</text></g><g transform=\"translate(208.77,1066.00)rotate(0)\"><text x=\"15.00\" y=\"2.81\" style=\"\">USA/CA-CDC-ASC210845751/2022|ON140993.1|2022-03-17</text></g><g transform=\"translate(208.77,1056.93)rotate(0)\"><text x=\"15.00\" y=\"2.81\" style=\"\">USA/CA-CDC-LC0565771/2022|ON092019.1|2022-03-17</text></g><g transform=\"translate(208.77,1047.86)rotate(0)\"><text x=\"15.00\" y=\"2.81\" style=\"\">USA/CA-CDC-ASC210845553/2022|ON106603.1|2022-03-17</text></g><g transform=\"translate(208.77,1038.78)rotate(0)\"><text x=\"15.00\" y=\"2.81\" style=\"\">USA/CA-CDC-QDX35038470/2022|ON139803.1|2022-03-17</text></g><g transform=\"translate(208.77,1029.71)rotate(0)\"><text x=\"15.00\" y=\"2.81\" style=\"\">USA/CA-CDC-QDX35038473/2022|ON139850.1|2022-03-17</text></g><g transform=\"translate(208.77,1020.64)rotate(0)\"><text x=\"15.00\" y=\"2.81\" style=\"\">USA/CA-CDC-ASC210736477/2022|ON106567.1|2022-03-17</text></g><g transform=\"translate(208.77,1011.57)rotate(0)\"><text x=\"15.00\" y=\"2.81\" style=\"\">USA/CA-CDC-LC0565728/2022|ON091986.1|2022-03-17</text></g><g transform=\"translate(208.77,1002.50)rotate(0)\"><text x=\"15.00\" y=\"2.81\" style=\"\">USA/CA-CDC-QDX35038471/2022|ON139834.1|2022-03-17</text></g><g transform=\"translate(208.77,993.43)rotate(0)\"><text x=\"15.00\" y=\"2.81\" style=\"\">USA/CA-CDC-QDX35038482/2022|ON139830.1|2022-03-17</text></g><g transform=\"translate(208.77,984.36)rotate(0)\"><text x=\"15.00\" y=\"2.81\" style=\"\">USA/CA-CDC-QDX35038480/2022|ON139812.1|2022-03-17</text></g><g transform=\"translate(208.77,975.28)rotate(0)\"><text x=\"15.00\" y=\"2.81\" style=\"\">USA/CA-CDC-QDX35038464/2022|ON139781.1|2022-03-17</text></g><g transform=\"translate(208.77,966.21)rotate(0)\"><text x=\"15.00\" y=\"2.81\" style=\"\">USA/CA-CDC-LC0565716/2022|ON091983.1|2022-03-17</text></g><g transform=\"translate(208.77,957.14)rotate(0)\"><text x=\"15.00\" y=\"2.81\" style=\"\">USA/CA-CDC-ASC210845557/2022|ON106600.1|2022-03-17</text></g><g transform=\"translate(208.77,948.07)rotate(0)\"><text x=\"15.00\" y=\"2.81\" style=\"\">USA/CA-CDC-LC0565760/2022|ON091978.1|2022-03-17</text></g><g transform=\"translate(208.77,939.00)rotate(0)\"><text x=\"15.00\" y=\"2.81\" style=\"\">USA/CA-CDC-ASC210845648/2022|ON106763.1|2022-03-17</text></g><g transform=\"translate(208.77,929.93)rotate(0)\"><text x=\"15.00\" y=\"2.81\" style=\"\">USA/CA-CDC-ASC210736521/2022|ON106713.1|2022-03-17</text></g><g transform=\"translate(208.77,920.86)rotate(0)\"><text x=\"15.00\" y=\"2.81\" style=\"\">USA/CA-CDC-STM-AHKJQ98K2/2022|ON143229.1|2022-03-17</text></g><g transform=\"translate(208.77,911.78)rotate(0)\"><text x=\"15.00\" y=\"2.81\" style=\"\">USA/CA-CDC-LC0565695/2022|ON091992.1|2022-03-17</text></g><g transform=\"translate(208.77,902.71)rotate(0)\"><text x=\"15.00\" y=\"2.81\" style=\"\">USA/CA-CDC-LC0565733/2022|ON092018.1|2022-03-17</text></g><g transform=\"translate(208.77,893.64)rotate(0)\"><text x=\"15.00\" y=\"2.81\" style=\"\">USA/CA-CDC-STM-SAEPRQCJB/2022|ON143257.1|2022-03-17</text></g><g transform=\"translate(208.77,884.57)rotate(0)\"><text x=\"15.00\" y=\"2.81\" style=\"\">USA/CA-CDC-ASC210845556/2022|ON106601.1|2022-03-17</text></g><g transform=\"translate(208.77,875.50)rotate(0)\"><text x=\"15.00\" y=\"2.81\" style=\"\">USA/CA-CDC-ASC210845637/2022|ON106773.1|2022-03-17</text></g><g transform=\"translate(208.77,866.43)rotate(0)\"><text x=\"15.00\" y=\"2.81\" style=\"\">USA/CA-CDC-LC0565756/2022|ON091988.1|2022-03-17</text></g><g transform=\"translate(208.77,857.36)rotate(0)\"><text x=\"15.00\" y=\"2.81\" style=\"\">USA/CA-CDC-ASC210845749/2022|ON140992.1|2022-03-17</text></g><g transform=\"translate(208.77,848.28)rotate(0)\"><text x=\"15.00\" y=\"2.81\" style=\"\">USA/CA-CDC-LC0565689/2022|ON092002.1|2022-03-17</text></g><g transform=\"translate(208.77,839.21)rotate(0)\"><text x=\"15.00\" y=\"2.81\" style=\"\">USA/CA-CDC-ASC210845949/2022|ON080429.1|2022-03-17</text></g><g transform=\"translate(208.77,830.14)rotate(0)\"><text x=\"15.00\" y=\"2.81\" style=\"\">USA/CA-CDC-ASC210845579/2022|ON106583.1|2022-03-17</text></g><g transform=\"translate(208.77,821.07)rotate(0)\"><text x=\"15.00\" y=\"2.81\" style=\"\">USA/CA-CDC-QDX35083800/2022|ON139836.1|2022-03-17</text></g><g transform=\"translate(208.77,812.00)rotate(0)\"><text x=\"15.00\" y=\"2.81\" style=\"\">USA/CA-CDC-QDX35083804/2022|ON139795.1|2022-03-17</text></g><g transform=\"translate(208.77,802.93)rotate(0)\"><text x=\"15.00\" y=\"2.81\" style=\"\">USA/CA-CDC-STM-TXQUJP5HA/2022|ON143253.1|2022-03-17</text></g><g transform=\"translate(208.77,793.86)rotate(0)\"><text x=\"15.00\" y=\"2.81\" style=\"\">USA/CA-CDC-QDX35038458/2022|ON139797.1|2022-03-17</text></g><g transform=\"translate(208.77,784.78)rotate(0)\"><text x=\"15.00\" y=\"2.81\" style=\"\">USA/CA-CDC-ASC210736519/2022|ON115925.1|2022-03-17</text></g><g transform=\"translate(208.77,775.71)rotate(0)\"><text x=\"15.00\" y=\"2.81\" style=\"\">USA/CA-CDC-LC0565705/2022|ON091991.1|2022-03-17</text></g><g transform=\"translate(208.77,766.64)rotate(0)\"><text x=\"15.00\" y=\"2.81\" style=\"\">USA/CA-CDC-ASC210736480/2022|ON106566.1|2022-03-17</text></g><g transform=\"translate(208.77,757.57)rotate(0)\"><text x=\"15.00\" y=\"2.81\" style=\"\">USA/CA-CDC-QDX35038463/2022|ON139854.1|2022-03-17</text></g><g transform=\"translate(208.77,748.50)rotate(0)\"><text x=\"15.00\" y=\"2.81\" style=\"\">USA/CA-CDC-ASC210845581/2022|ON106581.1|2022-03-17</text></g><g transform=\"translate(208.77,739.43)rotate(0)\"><text x=\"15.00\" y=\"2.81\" style=\"\">USA/CA-CDC-QDX35038481/2022|ON139779.1|2022-03-17</text></g><g transform=\"translate(208.77,730.36)rotate(0)\"><text x=\"15.00\" y=\"2.81\" style=\"\">USA/CA-CDC-QDX35038462/2022|ON139810.1|2022-03-17</text></g><g transform=\"translate(208.77,721.28)rotate(0)\"><text x=\"15.00\" y=\"2.81\" style=\"\">USA/CA-CDC-ASC210845558/2022|ON106599.1|2022-03-17</text></g><g transform=\"translate(208.77,712.21)rotate(0)\"><text x=\"15.00\" y=\"2.81\" style=\"\">USA/CA-CDC-STM-Z3RTWGWE3/2022|ON143116.1|2022-03-17</text></g><g transform=\"translate(208.77,703.14)rotate(0)\"><text x=\"15.00\" y=\"2.81\" style=\"\">USA/CA-CDC-QDX35038461/2022|ON139833.1|2022-03-17</text></g><g transform=\"translate(208.77,694.07)rotate(0)\"><text x=\"15.00\" y=\"2.81\" style=\"\">USA/CA-CDC-STM-VTPYW74VZ/2022|ON143169.1|2022-03-17</text></g><g transform=\"translate(208.77,685.00)rotate(0)\"><text x=\"15.00\" y=\"2.81\" style=\"\">USA/CA-CDC-ASC210845580/2022|ON106582.1|2022-03-17</text></g><g transform=\"translate(208.77,675.93)rotate(0)\"><text x=\"15.00\" y=\"2.81\" style=\"\">USA/CA-CDC-ASC210737059/2022|ON140996.1|2022-03-17</text></g><g transform=\"translate(208.77,666.86)rotate(0)\"><text x=\"15.00\" y=\"2.81\" style=\"\">USA/CA-CDC-ASC210736537/2022|ON106701.1|2022-03-17</text></g><g transform=\"translate(208.77,657.78)rotate(0)\"><text x=\"15.00\" y=\"2.81\" style=\"\">USA/CA-CDC-QDX35038469/2022|ON139859.1|2022-03-17</text></g><g transform=\"translate(208.77,648.71)rotate(0)\"><text x=\"15.00\" y=\"2.81\" style=\"\">USA/CA-CDC-ASC210736520/2022|ON106714.1|2022-03-17</text></g><g transform=\"translate(208.77,639.64)rotate(0)\"><text x=\"15.00\" y=\"2.81\" style=\"\">USA/CA-CDC-ASC210736992/2022|ON115923.1|2022-03-17</text></g><g transform=\"translate(208.77,630.57)rotate(0)\"><text x=\"15.00\" y=\"2.81\" style=\"\">USA/CA-LACPHL-AF07941/2022|ON157529.1|2022-03-17</text></g><g transform=\"translate(208.77,621.50)rotate(0)\"><text x=\"15.00\" y=\"2.81\" style=\"\">USA/CA-CDC-ASC210845555/2022|ON106666.1|2022-03-17</text></g><g transform=\"translate(208.77,612.43)rotate(0)\"><text x=\"15.00\" y=\"2.81\" style=\"\">USA/CA-CDC-ASC210736643/2022|ON115920.1|2022-03-17</text></g><g transform=\"translate(208.77,603.36)rotate(0)\"><text x=\"15.00\" y=\"2.81\" style=\"\">USA/CA-CDC-ASC210736741/2022|ON106518.1|2022-03-17</text></g><g transform=\"translate(208.77,594.29)rotate(0)\"><text x=\"15.00\" y=\"2.81\" style=\"\">USA/CA-CDC-ASC210736737/2022|ON106520.1|2022-03-17</text></g><g transform=\"translate(208.77,585.21)rotate(0)\"><text x=\"15.00\" y=\"2.81\" style=\"\">USA/CA-CDC-ASC210736322/2022|ON115921.1|2022-03-17</text></g><g transform=\"translate(208.77,576.14)rotate(0)\"><text x=\"15.00\" y=\"2.81\" style=\"\">USA/CA-CDC-ASC210736321/2022|ON115930.1|2022-03-17</text></g><g transform=\"translate(208.77,567.07)rotate(0)\"><text x=\"15.00\" y=\"2.81\" style=\"\">USA/CA-CDC-QDX35038465/2022|ON139793.1|2022-03-17</text></g><g transform=\"translate(208.77,558.00)rotate(0)\"><text x=\"15.00\" y=\"2.81\" style=\"\">USA/CA-CDC-QDX35038466/2022|ON139876.1|2022-03-17</text></g><g transform=\"translate(208.77,548.93)rotate(0)\"><text x=\"15.00\" y=\"2.81\" style=\"\">USA/CA-CDC-LC0565761/2022|ON091998.1|2022-03-17</text></g><g transform=\"translate(208.77,539.86)rotate(0)\"><text x=\"15.00\" y=\"2.81\" style=\"\">USA/CA-SLOPH-C1128/2022|ON120218.1|2022-03-17</text></g><g transform=\"translate(208.77,530.79)rotate(0)\"><text x=\"15.00\" y=\"2.81\" style=\"\">USA/CA-CDC-QDX35038467/2022|ON139783.1|2022-03-17</text></g><g transform=\"translate(208.77,521.71)rotate(0)\"><text x=\"15.00\" y=\"2.81\" style=\"\">USA/CA-CDC-STM-UW7SANXBP/2022|ON143117.1|2022-03-17</text></g><g transform=\"translate(208.77,512.64)rotate(0)\"><text x=\"15.00\" y=\"2.81\" style=\"\">USA/CA-CDC-LC0565782/2022|ON092000.1|2022-03-17</text></g><g transform=\"translate(208.77,503.57)rotate(0)\"><text x=\"15.00\" y=\"2.81\" style=\"\">USA/CA-CDC-ASC210845677/2022|ON106694.1|2022-03-17</text></g><g transform=\"translate(208.77,494.50)rotate(0)\"><text x=\"15.00\" y=\"2.81\" style=\"\">USA/CA-CDC-LC0565736/2022|ON091985.1|2022-03-17</text></g><g transform=\"translate(208.77,485.43)rotate(0)\"><text x=\"15.00\" y=\"2.81\" style=\"\">USA/CA-CDC-STM-RW6VVHQ59/2022|ON143276.1|2022-03-17</text></g><g transform=\"translate(208.77,476.36)rotate(0)\"><text x=\"15.00\" y=\"2.81\" style=\"\">USA/CA-CDC-LC0565770/2022|ON092012.1|2022-03-17</text></g><g transform=\"translate(208.77,467.29)rotate(0)\"><text x=\"15.00\" y=\"2.81\" style=\"\">USA/CA-CDC-LC0565742/2022|ON092015.1|2022-03-17</text></g><g transform=\"translate(208.77,458.21)rotate(0)\"><text x=\"15.00\" y=\"2.81\" style=\"\">USA/CA-CDC-ASC210845564/2022|ON106594.1|2022-03-17</text></g><g transform=\"translate(208.77,449.14)rotate(0)\"><text x=\"15.00\" y=\"2.81\" style=\"\">USA/CA-CDC-ASC210736356/2022|ON115928.1|2022-03-17</text></g><g transform=\"translate(208.77,440.07)rotate(0)\"><text x=\"15.00\" y=\"2.81\" style=\"\">USA/CA-CCPHL-1957/2022|ON159121.1|2022-03-17</text></g><g transform=\"translate(208.77,431.00)rotate(0)\"><text x=\"15.00\" y=\"2.81\" style=\"\">USA/CA-CDC-ASC210736588/2022|ON106497.1|2022-03-17</text></g><g transform=\"translate(208.77,421.93)rotate(0)\"><text x=\"15.00\" y=\"2.81\" style=\"\">USA/CA-CDC-STM-G5DGSRNPR/2022|ON143242.1|2022-03-17</text></g><g transform=\"translate(208.77,412.86)rotate(0)\"><text x=\"15.00\" y=\"2.81\" style=\"\">USA/CA-CDC-STM-SSSGMM5UR/2022|ON143243.1|2022-03-17</text></g><g transform=\"translate(208.77,403.79)rotate(0)\"><text x=\"15.00\" y=\"2.81\" style=\"\">USA/CA-CDC-STM-DNEA639ZX/2022|ON143170.1|2022-03-17</text></g><g transform=\"translate(208.77,394.71)rotate(0)\"><text x=\"15.00\" y=\"2.81\" style=\"\">USA/CA-CDC-LC0565725/2022|ON091987.1|2022-03-17</text></g><g transform=\"translate(208.77,385.64)rotate(0)\"><text x=\"15.00\" y=\"2.81\" style=\"\">USA/CA-CDC-QDX35038460/2022|ON139786.1|2022-03-17</text></g><g transform=\"translate(208.77,376.57)rotate(0)\"><text x=\"15.00\" y=\"2.81\" style=\"\">USA/CA-CDC-ASC210736481/2022|ON106565.1|2022-03-17</text></g><g transform=\"translate(208.77,367.50)rotate(0)\"><text x=\"15.00\" y=\"2.81\" style=\"\">USA/CA-CDC-LC0565718/2022|ON091995.1|2022-03-17</text></g><g transform=\"translate(208.77,358.43)rotate(0)\"><text x=\"15.00\" y=\"2.81\" style=\"\">USA/CA-CDC-STM-SA8GA9WRR/2022|ON143284.1|2022-03-17</text></g><g transform=\"translate(208.77,349.36)rotate(0)\"><text x=\"15.00\" y=\"2.81\" style=\"\">USA/CA-CDC-ASC210736414/2022|ON106661.1|2022-03-17</text></g><g transform=\"translate(208.77,340.29)rotate(0)\"><text x=\"15.00\" y=\"2.81\" style=\"\">USA/CA-CDC-LC0565696/2022|ON092009.1|2022-03-17</text></g><g transform=\"translate(208.77,331.21)rotate(0)\"><text x=\"15.00\" y=\"2.81\" style=\"\">USA/CA-CDC-ASC210845657/2022|ON106724.1|2022-03-17</text></g><g transform=\"translate(208.77,322.14)rotate(0)\"><text x=\"15.00\" y=\"2.81\" style=\"\">USA/CA-CDC-ASC210736404/2022|ON106621.1|2022-03-17</text></g><g transform=\"translate(208.77,313.07)rotate(0)\"><text x=\"15.00\" y=\"2.81\" style=\"\">USA/CA-CDC-QDX35038475/2022|ON139809.1|2022-03-17</text></g><g transform=\"translate(208.77,304.00)rotate(0)\"><text x=\"15.00\" y=\"2.81\" style=\"\">USA/CA-CDC-STM-QG59J2SWH/2022|ON143128.1|2022-03-17</text></g><g transform=\"translate(208.77,294.93)rotate(0)\"><text x=\"15.00\" y=\"2.81\" style=\"\">USA/CA-CDC-ASC210736591/2022|ON106530.1|2022-03-17</text></g><g transform=\"translate(208.77,285.86)rotate(0)\"><text x=\"15.00\" y=\"2.81\" style=\"\">USA/CA-CDC-LC0565781/2022|ON091990.1|2022-03-17</text></g><g transform=\"translate(208.77,276.79)rotate(0)\"><text x=\"15.00\" y=\"2.81\" style=\"\">USA/CA-CDC-ASC210845754/2022|ON140997.1|2022-03-17</text></g><g transform=\"translate(208.77,267.71)rotate(0)\"><text x=\"15.00\" y=\"2.81\" style=\"\">USA/CA-CDC-STM-EGNPPH74C/2022|ON143261.1|2022-03-17</text></g><g transform=\"translate(208.77,258.64)rotate(0)\"><text x=\"15.00\" y=\"2.81\" style=\"\">USA/CA-CDC-STM-7H9PKMGYG/2022|ON143213.1|2022-03-17</text></g><g transform=\"translate(208.77,249.57)rotate(0)\"><text x=\"15.00\" y=\"2.81\" style=\"\">USA/CA-CDC-ASC210736324/2022|ON115913.1|2022-03-17</text></g><g transform=\"translate(208.77,240.50)rotate(0)\"><text x=\"15.00\" y=\"2.81\" style=\"\">USA/CA-CDC-QDX35038457/2022|ON139868.1|2022-03-17</text></g><g transform=\"translate(208.77,231.43)rotate(0)\"><text x=\"15.00\" y=\"2.81\" style=\"\">USA/CA-CDC-ASC210845666/2022|ON106690.1|2022-03-17</text></g><g transform=\"translate(208.77,222.36)rotate(0)\"><text x=\"15.00\" y=\"2.81\" style=\"\">USA/CA-CDC-QDX35083817/2022|ON139826.1|2022-03-17</text></g><g transform=\"translate(208.77,213.29)rotate(0)\"><text x=\"15.00\" y=\"2.81\" style=\"\">USA/CA-CDC-ASC210736590/2022|ON106513.1|2022-03-17</text></g><g transform=\"translate(208.77,204.21)rotate(0)\"><text x=\"15.00\" y=\"2.81\" style=\"\">USA/CA-CDC-LC0565734/2022|ON092017.1|2022-03-17</text></g><g transform=\"translate(208.77,195.14)rotate(0)\"><text x=\"15.00\" y=\"2.81\" style=\"\">USA/CA-CDC-STM-YMF9BK8RY/2022|ON143194.1|2022-03-17</text></g><g transform=\"translate(208.77,186.07)rotate(0)\"><text x=\"15.00\" y=\"2.81\" style=\"\">USA/CA-CDC-ASC210845656/2022|ON106743.1|2022-03-17</text></g><g transform=\"translate(208.77,177.00)rotate(0)\"><text x=\"15.00\" y=\"2.81\" style=\"\">USA/CA-CDC-ASC210736330/2022|ON115909.1|2022-03-17</text></g><g transform=\"translate(208.77,167.93)rotate(0)\"><text x=\"15.00\" y=\"2.81\" style=\"\">USA/CA-CDC-LC0565717/2022|ON092010.1|2022-03-17</text></g><g transform=\"translate(208.77,158.86)rotate(0)\"><text x=\"15.00\" y=\"2.81\" style=\"\">USA/CA-CDC-STM-RBRBPQW27/2022|ON143204.1|2022-03-17</text></g><g transform=\"translate(208.77,149.79)rotate(0)\"><text x=\"15.00\" y=\"2.81\" style=\"\">USA/CA-CDC-ASC210845601/2022|ON106746.1|2022-03-17</text></g><g transform=\"translate(208.77,140.71)rotate(0)\"><text x=\"15.00\" y=\"2.81\" style=\"\">USA/CA-CDC-STM-MJ9TQ7HPW/2022|ON143174.1|2022-03-17</text></g></g></g></g><g class=\"toyplot-coordinates-Axis\" id=\"t6c60d4cd7be74c40bbdae1b43229f662\" transform=\"translate(50.0,1150.0)translate(0,20.0)\"><line x1=\"0.7899174931178268\" y1=\"0\" x2=\"158.77341611668655\" y2=\"0\" style=\"\"></line><g><line x1=\"45.92805995699461\" y1=\"0\" x2=\"45.92805995699461\" y2=\"-5\" style=\"\"></line><line x1=\"158.77341611668655\" y1=\"0\" x2=\"158.77341611668655\" y2=\"-5\" style=\"\"></line><line x1=\"271.61877227637854\" y1=\"0\" x2=\"271.61877227637854\" y2=\"-5\" style=\"\"></line><line x1=\"384.4641284360705\" y1=\"0\" x2=\"384.4641284360705\" y2=\"-5\" style=\"\"></line></g><g><g transform=\"translate(45.92805995699461,6)\"><text x=\"-7.2250000000000005\" y=\"8.555\" style=\"fill:rgb(16.1%,15.3%,14.1%);fill-opacity:1.0;font-family:helvetica;font-size:10.0px;font-weight:normal;stroke:none;vertical-align:baseline;white-space:pre\">-10</text></g><g transform=\"translate(158.77341611668655,6)\"><text x=\"-2.78\" y=\"8.555\" style=\"fill:rgb(16.1%,15.3%,14.1%);fill-opacity:1.0;font-family:helvetica;font-size:10.0px;font-weight:normal;stroke:none;vertical-align:baseline;white-space:pre\">0</text></g><g transform=\"translate(271.61877227637854,6)\"><text x=\"-5.56\" y=\"8.555\" style=\"fill:rgb(16.1%,15.3%,14.1%);fill-opacity:1.0;font-family:helvetica;font-size:10.0px;font-weight:normal;stroke:none;vertical-align:baseline;white-space:pre\">10</text></g><g transform=\"translate(384.4641284360705,6)\"><text x=\"-5.56\" y=\"8.555\" style=\"fill:rgb(16.1%,15.3%,14.1%);fill-opacity:1.0;font-family:helvetica;font-size:10.0px;font-weight:normal;stroke:none;vertical-align:baseline;white-space:pre\">20</text></g></g><g class=\"toyplot-coordinates-Axis-coordinates\" style=\"visibility:hidden\" transform=\"\"><line x1=\"0\" x2=\"0\" y1=\"-3.0\" y2=\"4.5\" style=\"stroke:rgb(43.9%,50.2%,56.5%);stroke-opacity:1.0;stroke-width:1.0\"></line><text x=\"0\" y=\"-6\" style=\"alignment-baseline:alphabetic;fill:rgb(43.9%,50.2%,56.5%);fill-opacity:1.0;font-size:10px;font-weight:normal;stroke:none;text-anchor:middle\"></text></g></g><g class=\"toyplot-coordinates-Axis\" id=\"t68c546f1d23446f08cdcdc44eac0e638\" transform=\"translate(50.0,1150.0)rotate(-90.0)translate(0,-20.0)\"><line x1=\"11.429985155863353\" y1=\"0\" x2=\"1009.285832096322\" y2=\"0\" style=\"\"></line><g><g transform=\"translate(11.429985155863353,-6)\"><text x=\"-2.78\" y=\"-4.440892098500626e-16\" style=\"fill:rgb(16.1%,15.3%,14.1%);fill-opacity:1.0;font-family:helvetica;font-size:10.0px;font-weight:normal;stroke:none;vertical-align:baseline;white-space:pre\">0</text></g><g transform=\"translate(374.2866567705756,-6)\"><text x=\"-5.56\" y=\"-4.440892098500626e-16\" style=\"fill:rgb(16.1%,15.3%,14.1%);fill-opacity:1.0;font-family:helvetica;font-size:10.0px;font-weight:normal;stroke:none;vertical-align:baseline;white-space:pre\">40</text></g><g transform=\"translate(737.1433283852879,-6)\"><text x=\"-5.56\" y=\"-4.440892098500626e-16\" style=\"fill:rgb(16.1%,15.3%,14.1%);fill-opacity:1.0;font-family:helvetica;font-size:10.0px;font-weight:normal;stroke:none;vertical-align:baseline;white-space:pre\">80</text></g><g transform=\"translate(1100.0,-6)\"><text x=\"-8.34\" y=\"-4.440892098500626e-16\" style=\"fill:rgb(16.1%,15.3%,14.1%);fill-opacity:1.0;font-family:helvetica;font-size:10.0px;font-weight:normal;stroke:none;vertical-align:baseline;white-space:pre\">120</text></g></g><g class=\"toyplot-coordinates-Axis-coordinates\" style=\"visibility:hidden\" transform=\"\"><line x1=\"0\" x2=\"0\" y1=\"3.0\" y2=\"-4.5\" style=\"stroke:rgb(43.9%,50.2%,56.5%);stroke-opacity:1.0;stroke-width:1.0\"></line><text x=\"0\" y=\"6\" style=\"alignment-baseline:hanging;fill:rgb(43.9%,50.2%,56.5%);fill-opacity:1.0;font-size:10px;font-weight:normal;stroke:none;text-anchor:middle\"></text></g></g></g></svg><div class=\"toyplot-behavior\"><script>(function()\n",
       "{\n",
       "var modules={};\n",
       "modules[\"toyplot/canvas/id\"] = \"t1b27837882f34540bff235fc8645d90c\";\n",
       "modules[\"toyplot/canvas\"] = (function(canvas_id)\n",
       "    {\n",
       "        return document.querySelector(\"#\" + canvas_id);\n",
       "    })(modules[\"toyplot/canvas/id\"]);\n",
       "modules[\"toyplot.coordinates.Axis\"] = (\n",
       "        function(canvas)\n",
       "        {\n",
       "            function sign(x)\n",
       "            {\n",
       "                return x < 0 ? -1 : x > 0 ? 1 : 0;\n",
       "            }\n",
       "\n",
       "            function mix(a, b, amount)\n",
       "            {\n",
       "                return ((1.0 - amount) * a) + (amount * b);\n",
       "            }\n",
       "\n",
       "            function log(x, base)\n",
       "            {\n",
       "                return Math.log(Math.abs(x)) / Math.log(base);\n",
       "            }\n",
       "\n",
       "            function in_range(a, x, b)\n",
       "            {\n",
       "                var left = Math.min(a, b);\n",
       "                var right = Math.max(a, b);\n",
       "                return left <= x && x <= right;\n",
       "            }\n",
       "\n",
       "            function inside(range, projection)\n",
       "            {\n",
       "                for(var i = 0; i != projection.length; ++i)\n",
       "                {\n",
       "                    var segment = projection[i];\n",
       "                    if(in_range(segment.range.min, range, segment.range.max))\n",
       "                        return true;\n",
       "                }\n",
       "                return false;\n",
       "            }\n",
       "\n",
       "            function to_domain(range, projection)\n",
       "            {\n",
       "                for(var i = 0; i != projection.length; ++i)\n",
       "                {\n",
       "                    var segment = projection[i];\n",
       "                    if(in_range(segment.range.bounds.min, range, segment.range.bounds.max))\n",
       "                    {\n",
       "                        if(segment.scale == \"linear\")\n",
       "                        {\n",
       "                            var amount = (range - segment.range.min) / (segment.range.max - segment.range.min);\n",
       "                            return mix(segment.domain.min, segment.domain.max, amount)\n",
       "                        }\n",
       "                        else if(segment.scale[0] == \"log\")\n",
       "                        {\n",
       "                            var amount = (range - segment.range.min) / (segment.range.max - segment.range.min);\n",
       "                            var base = segment.scale[1];\n",
       "                            return sign(segment.domain.min) * Math.pow(base, mix(log(segment.domain.min, base), log(segment.domain.max, base), amount));\n",
       "                        }\n",
       "                    }\n",
       "                }\n",
       "            }\n",
       "\n",
       "            var axes = {};\n",
       "\n",
       "            function display_coordinates(e)\n",
       "            {\n",
       "                var current = canvas.createSVGPoint();\n",
       "                current.x = e.clientX;\n",
       "                current.y = e.clientY;\n",
       "\n",
       "                for(var axis_id in axes)\n",
       "                {\n",
       "                    var axis = document.querySelector(\"#\" + axis_id);\n",
       "                    var coordinates = axis.querySelector(\".toyplot-coordinates-Axis-coordinates\");\n",
       "                    if(coordinates)\n",
       "                    {\n",
       "                        var projection = axes[axis_id];\n",
       "                        var local = current.matrixTransform(axis.getScreenCTM().inverse());\n",
       "                        if(inside(local.x, projection))\n",
       "                        {\n",
       "                            var domain = to_domain(local.x, projection);\n",
       "                            coordinates.style.visibility = \"visible\";\n",
       "                            coordinates.setAttribute(\"transform\", \"translate(\" + local.x + \")\");\n",
       "                            var text = coordinates.querySelector(\"text\");\n",
       "                            text.textContent = domain.toFixed(2);\n",
       "                        }\n",
       "                        else\n",
       "                        {\n",
       "                            coordinates.style.visibility= \"hidden\";\n",
       "                        }\n",
       "                    }\n",
       "                }\n",
       "            }\n",
       "\n",
       "            canvas.addEventListener(\"click\", display_coordinates);\n",
       "\n",
       "            var module = {};\n",
       "            module.show_coordinates = function(axis_id, projection)\n",
       "            {\n",
       "                axes[axis_id] = projection;\n",
       "            }\n",
       "\n",
       "            return module;\n",
       "        })(modules[\"toyplot/canvas\"]);\n",
       "(function(axis, axis_id, projection)\n",
       "        {\n",
       "            axis.show_coordinates(axis_id, projection);\n",
       "        })(modules[\"toyplot.coordinates.Axis\"],\"t6c60d4cd7be74c40bbdae1b43229f662\",[{\"domain\": {\"bounds\": {\"max\": Infinity, \"min\": -Infinity}, \"max\": 21.376740000000005, \"min\": -14.069999999999999}, \"range\": {\"bounds\": {\"max\": Infinity, \"min\": -Infinity}, \"max\": 400.0, \"min\": 0.0}, \"scale\": \"linear\"}]);\n",
       "(function(axis, axis_id, projection)\n",
       "        {\n",
       "            axis.show_coordinates(axis_id, projection);\n",
       "        })(modules[\"toyplot.coordinates.Axis\"],\"t68c546f1d23446f08cdcdc44eac0e638\",[{\"domain\": {\"bounds\": {\"max\": Infinity, \"min\": -Infinity}, \"max\": 120.0, \"min\": -1.259999999999991}, \"range\": {\"bounds\": {\"max\": Infinity, \"min\": -Infinity}, \"max\": 1100.0, \"min\": 0.0}, \"scale\": \"linear\"}]);\n",
       "})();</script></div></div>"
      ]
     },
     "metadata": {},
     "output_type": "display_data"
    }
   ],
   "source": [
    "test = mat.subtree([s.decode(\"UTF-8\") for s in selection])\n",
    "canvas,axes,makr = ttplt.tree(test.write_newick(),tree_format=1).draw(tip_labels_align=True,height=1200,width=500)\n",
    "axes.show = True\n",
    "axes.x.ticks.show = True"
   ]
  }
 ],
 "metadata": {
  "kernelspec": {
   "display_name": "Python 3 (ipykernel)",
   "language": "python",
   "name": "python3"
  },
  "language_info": {
   "codemirror_mode": {
    "name": "ipython",
    "version": 3
   },
   "file_extension": ".py",
   "mimetype": "text/x-python",
   "name": "python",
   "nbconvert_exporter": "python",
   "pygments_lexer": "ipython3",
   "version": "3.8.13"
  }
 },
 "nbformat": 4,
 "nbformat_minor": 5
}
