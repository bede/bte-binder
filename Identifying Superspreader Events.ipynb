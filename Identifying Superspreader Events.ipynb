{
 "cells": [
  {
   "cell_type": "code",
   "execution_count": 1,
   "id": "69be631d",
   "metadata": {},
   "outputs": [],
   "source": [
    "import pandas as pd\n",
    "import numpy as np\n",
    "import seaborn as sns\n",
    "import matplotlib.pyplot as plt\n",
    "import bte\n",
    "import datetime as dt"
   ]
  },
  {
   "cell_type": "markdown",
   "id": "e845ed6d",
   "metadata": {},
   "source": [
    "SARS-CoV-2 is often characterized by bursts of closely related infections in a short span of time, reflecting events where a single infected individual is exposed to a large number of vulnerable individuals. We can identify these within the phylogeny by identifying nodes with large groups of identical or near-identical samples. "
   ]
  },
  {
   "cell_type": "code",
   "execution_count": 2,
   "id": "c0016d82",
   "metadata": {},
   "outputs": [
    {
     "name": "stdout",
     "output_type": "stream",
     "text": [
      "Finished 'from_pb' in 30.9851 seconds\n"
     ]
    }
   ],
   "source": [
    "mat = bte.MATree(\"public-2022-04-08.all.masked.nextclade.pangolin.pb.gz\")"
   ]
  },
  {
   "cell_type": "markdown",
   "id": "cd8c12c0",
   "metadata": {},
   "source": [
    "Let's define a superspreader event here as the top 1% of groups of samples with a shared parent. This is not truly informed, given inherent variation in sequencing rate across regions and times, but is sufficient for an initial survey of the data."
   ]
  },
  {
   "cell_type": "code",
   "execution_count": 3,
   "id": "f2ab529f",
   "metadata": {},
   "outputs": [
    {
     "name": "stdout",
     "output_type": "stream",
     "text": [
      "Finished 'breadth_first_expansion' in 1.6839 seconds\n"
     ]
    }
   ],
   "source": [
    "groups = {}\n",
    "cp = None\n",
    "clist = []\n",
    "for n in mat.breadth_first_expansion():\n",
    "    if n.is_leaf() and len(n.mutations) <= 1:\n",
    "        if n.parent.id != cp:\n",
    "            if cp != None:\n",
    "                groups[cp] = clist\n",
    "            cp = n.parent.id\n",
    "            clist = [n]\n",
    "        else:\n",
    "            clist.append(n)"
   ]
  },
  {
   "cell_type": "code",
   "execution_count": 4,
   "id": "82d74854",
   "metadata": {},
   "outputs": [
    {
     "name": "stderr",
     "output_type": "stream",
     "text": [
      "/Users/jmcbr/opt/anaconda3/envs/btebind/lib/python3.8/site-packages/seaborn/distributions.py:2619: FutureWarning: `distplot` is a deprecated function and will be removed in a future version. Please adapt your code to use either `displot` (a figure-level function with similar flexibility) or `histplot` (an axes-level function for histograms).\n",
      "  warnings.warn(msg, FutureWarning)\n"
     ]
    },
    {
     "data": {
      "text/plain": [
       "<AxesSubplot:ylabel='Density'>"
      ]
     },
     "execution_count": 4,
     "metadata": {},
     "output_type": "execute_result"
    },
    {
     "data": {
      "image/png": "[encoded data removed]",
      "text/plain": [
       "<Figure size 432x288 with 1 Axes>"
      ]
     },
     "metadata": {
      "needs_background": "light"
     },
     "output_type": "display_data"
    }
   ],
   "source": [
    "sns.distplot([np.log10(len(v)) for v in groups.values()])"
   ]
  },
  {
   "cell_type": "code",
   "execution_count": 5,
   "id": "5fec54a1",
   "metadata": {},
   "outputs": [
    {
     "data": {
      "text/plain": [
       "(42.0, 8606)"
      ]
     },
     "execution_count": 5,
     "metadata": {},
     "output_type": "execute_result"
    }
   ],
   "source": [
    "threshold = np.percentile([len(v) for v in groups.values()],99)\n",
    "threshold, len([len(v) for v in groups.values() if len(v) > threshold])"
   ]
  },
  {
   "cell_type": "markdown",
   "id": "d83cbab3",
   "metadata": {},
   "source": [
    "Under this definition, we have highlighted 8,606 putative superspreader events, with 42 or more infections with less than 1 mutation distinguishing them. With a sampling rate of less than 5% of positive tests in most areas, it's likely that these events are associated with bursts of hundreds to thousands of infections within less than a month."
   ]
  },
  {
   "cell_type": "code",
   "execution_count": 6,
   "id": "9af037e4",
   "metadata": {},
   "outputs": [
    {
     "data": {
      "text/plain": [
       "5945"
      ]
     },
     "execution_count": 6,
     "metadata": {},
     "output_type": "execute_result"
    }
   ],
   "source": [
    "samples, count = max([(v,len(v)) for v in groups.values()],key=lambda x:x[1])\n",
    "count"
   ]
  },
  {
   "cell_type": "markdown",
   "id": "fc2e070f",
   "metadata": {},
   "source": [
    "Our very largest group is nearly six thousand extremely similar samples. Let's take a closer look at these samples. Where are they from? And when were they collected?\n",
    "\n",
    "Fortunately, there is a standardized format for sample names for SARS-CoV-2 uploaded to public repositories. Generally, the name starts with the country ID followed by a \"/\" character, and ends with the date in Y-M-D format after a \"|\" character. We can therefore extract date and location from sample IDs."
   ]
  },
  {
   "cell_type": "code",
   "execution_count": 7,
   "id": "dd736493",
   "metadata": {},
   "outputs": [
    {
     "data": {
      "text/html": [
       "<div>\n",
       "<style scoped>\n",
       "    .dataframe tbody tr th:only-of-type {\n",
       "        vertical-align: middle;\n",
       "    }\n",
       "\n",
       "    .dataframe tbody tr th {\n",
       "        vertical-align: top;\n",
       "    }\n",
       "\n",
       "    .dataframe thead th {\n",
       "        text-align: right;\n",
       "    }\n",
       "</style>\n",
       "<table border=\"1\" class=\"dataframe\">\n",
       "  <thead>\n",
       "    <tr style=\"text-align: right;\">\n",
       "      <th></th>\n",
       "      <th>Country</th>\n",
       "      <th>Date</th>\n",
       "      <th>Mutations</th>\n",
       "      <th>Annotations</th>\n",
       "    </tr>\n",
       "  </thead>\n",
       "  <tbody>\n",
       "    <tr>\n",
       "      <th>0</th>\n",
       "      <td>England</td>\n",
       "      <td>2021-04-26</td>\n",
       "      <td>1</td>\n",
       "      <td>AY.4</td>\n",
       "    </tr>\n",
       "    <tr>\n",
       "      <th>1</th>\n",
       "      <td>England</td>\n",
       "      <td>2021-04-27</td>\n",
       "      <td>1</td>\n",
       "      <td>AY.4</td>\n",
       "    </tr>\n",
       "    <tr>\n",
       "      <th>2</th>\n",
       "      <td>England</td>\n",
       "      <td>2021-05-07</td>\n",
       "      <td>1</td>\n",
       "      <td>AY.4</td>\n",
       "    </tr>\n",
       "    <tr>\n",
       "      <th>3</th>\n",
       "      <td>England</td>\n",
       "      <td>2021-04-28</td>\n",
       "      <td>1</td>\n",
       "      <td>AY.4</td>\n",
       "    </tr>\n",
       "    <tr>\n",
       "      <th>4</th>\n",
       "      <td>England</td>\n",
       "      <td>2021-05-10</td>\n",
       "      <td>1</td>\n",
       "      <td>AY.4</td>\n",
       "    </tr>\n",
       "    <tr>\n",
       "      <th>...</th>\n",
       "      <td>...</td>\n",
       "      <td>...</td>\n",
       "      <td>...</td>\n",
       "      <td>...</td>\n",
       "    </tr>\n",
       "    <tr>\n",
       "      <th>5940</th>\n",
       "      <td>England</td>\n",
       "      <td>2021-06-10</td>\n",
       "      <td>0</td>\n",
       "      <td>AY.4</td>\n",
       "    </tr>\n",
       "    <tr>\n",
       "      <th>5941</th>\n",
       "      <td>Scotland</td>\n",
       "      <td>2021-06-25</td>\n",
       "      <td>0</td>\n",
       "      <td>AY.4</td>\n",
       "    </tr>\n",
       "    <tr>\n",
       "      <th>5942</th>\n",
       "      <td>Scotland</td>\n",
       "      <td>2021-06-26</td>\n",
       "      <td>0</td>\n",
       "      <td>AY.4</td>\n",
       "    </tr>\n",
       "    <tr>\n",
       "      <th>5943</th>\n",
       "      <td>Scotland</td>\n",
       "      <td>2021-07-27</td>\n",
       "      <td>0</td>\n",
       "      <td>AY.4</td>\n",
       "    </tr>\n",
       "    <tr>\n",
       "      <th>5944</th>\n",
       "      <td>Scotland</td>\n",
       "      <td>2021-08-04</td>\n",
       "      <td>0</td>\n",
       "      <td>AY.4</td>\n",
       "    </tr>\n",
       "  </tbody>\n",
       "</table>\n",
       "<p>5945 rows × 4 columns</p>\n",
       "</div>"
      ],
      "text/plain": [
       "       Country       Date  Mutations Annotations\n",
       "0      England 2021-04-26          1        AY.4\n",
       "1      England 2021-04-27          1        AY.4\n",
       "2      England 2021-05-07          1        AY.4\n",
       "3      England 2021-04-28          1        AY.4\n",
       "4      England 2021-05-10          1        AY.4\n",
       "...        ...        ...        ...         ...\n",
       "5940   England 2021-06-10          0        AY.4\n",
       "5941  Scotland 2021-06-25          0        AY.4\n",
       "5942  Scotland 2021-06-26          0        AY.4\n",
       "5943  Scotland 2021-07-27          0        AY.4\n",
       "5944  Scotland 2021-08-04          0        AY.4\n",
       "\n",
       "[5945 rows x 4 columns]"
      ]
     },
     "execution_count": 7,
     "metadata": {},
     "output_type": "execute_result"
    }
   ],
   "source": [
    "sdf = {k:[] for k in ['Country','Date','Mutations','Annotations']}\n",
    "for s in samples:\n",
    "    sdf['Country'].append(s.id.split(\"/\")[0])\n",
    "    try:\n",
    "        sdf['Date'].append(dt.datetime.strptime(s.id.split(\"|\")[-1],\"%Y-%m-%d\"))\n",
    "    except:\n",
    "        sdf['Date'].append(np.nan)\n",
    "    sdf['Mutations'].append(len(s.mutations))\n",
    "    sdf['Annotations'].append(s.annotations[1])\n",
    "sdf = pd.DataFrame(sdf)\n",
    "sdf"
   ]
  },
  {
   "cell_type": "code",
   "execution_count": 8,
   "id": "5570a32f",
   "metadata": {},
   "outputs": [
    {
     "data": {
      "text/plain": [
       "England                                                                      5454\n",
       "Wales                                                                         180\n",
       "Scotland                                                                      163\n",
       "Northern_Ireland                                                               70\n",
       "NorthernIreland                                                                41\n",
       "Switzerland                                                                    14\n",
       "USA                                                                             9\n",
       "IMS-10150-CVDP-84063865-DB50-40B0-A333-6C2193AE73AD|OU617366.1|2021-08-10       1\n",
       "Molecular_surveillance_of_SARS-CoV-2_in_Germany|OV261337.1|2021-08-12           1\n",
       "RNA|OV103593.1|2021-09-03                                                       1\n",
       "RNA|OV103874.1|2021-08-24                                                       1\n",
       "IMS-10150-CVDP-D804765E-94AF-4563-AE51-3549A2A4A5DC|OU427632.1|2021-06-29       1\n",
       "IMS-10150-CVDP-521F1F1D-47AC-41C2-B6DD-8CB7F7AE6522|OU398738.1|2021-06-26       1\n",
       "Germany                                                                         1\n",
       "RNA|OU706961.1|2021-08-18                                                       1\n",
       "RNA|OU706921.1|2021-08-18                                                       1\n",
       "Molecular_surveillance_of_SARS-CoV-2_in_Germany|OV339543.1|2021-09-07           1\n",
       "Denmark                                                                         1\n",
       "Molecular_surveillance_of_SARS-CoV-2_in_Germany|OV396198.1|2021-09-28           1\n",
       "RNA|OV103631.1|2021-08-25                                                       1\n",
       "Molecular_surveillance_of_SARS-CoV-2_in_Germany|OV261494.1|2021-08-12           1\n",
       "Name: Country, dtype: int64"
      ]
     },
     "execution_count": 8,
     "metadata": {},
     "output_type": "execute_result"
    }
   ],
   "source": [
    "sdf.Country.value_counts()"
   ]
  },
  {
   "cell_type": "code",
   "execution_count": 9,
   "id": "682dac4c",
   "metadata": {},
   "outputs": [
    {
     "data": {
      "text/plain": [
       "<AxesSubplot:xlabel='Date,Date'>"
      ]
     },
     "execution_count": 9,
     "metadata": {},
     "output_type": "execute_result"
    },
    {
     "data": {
      "image/png": "[encoded data removed]",
      "text/plain": [
       "<Figure size 432x288 with 1 Axes>"
      ]
     },
     "metadata": {
      "needs_background": "light"
     },
     "output_type": "display_data"
    }
   ],
   "source": [
    "sdf.Date.groupby([sdf['Date'].dt.year,sdf['Date'].dt.month]).count().plot(kind=\"bar\")"
   ]
  },
  {
   "cell_type": "markdown",
   "id": "e1193cd4",
   "metadata": {},
   "source": [
    "This superspreader event appears to be centered within the United Kingdom, with spread primarily in England but also to Wales, Scotland, and Northern Ireland. There are also a few samples appearing in the USA, Switzerland, and Germany. Note the inconsistent labeling of Northern_Ireland versus NorthernIreland- these kinds of data quality issues are pervasive and should be watched for.\n",
    "\n",
    "AY.4 is a common sublineage of Delta. These samples are all collected over a period of about 2 months, from May 2021 to July 2021. It's likely that this group reflects one of the initial major waves of infection during the initial emergence of the Delta variant. "
   ]
  },
  {
   "cell_type": "code",
   "execution_count": 11,
   "id": "69625b5b",
   "metadata": {},
   "outputs": [
    {
     "data": {
      "text/html": [
       "<div>\n",
       "<style scoped>\n",
       "    .dataframe tbody tr th:only-of-type {\n",
       "        vertical-align: middle;\n",
       "    }\n",
       "\n",
       "    .dataframe tbody tr th {\n",
       "        vertical-align: top;\n",
       "    }\n",
       "\n",
       "    .dataframe thead th {\n",
       "        text-align: right;\n",
       "    }\n",
       "</style>\n",
       "<table border=\"1\" class=\"dataframe\">\n",
       "  <thead>\n",
       "    <tr style=\"text-align: right;\">\n",
       "      <th></th>\n",
       "      <th>MedianDate</th>\n",
       "      <th>PrimaryLocation</th>\n",
       "      <th>Count</th>\n",
       "      <th>Annotation</th>\n",
       "    </tr>\n",
       "  </thead>\n",
       "  <tbody>\n",
       "    <tr>\n",
       "      <th>0</th>\n",
       "      <td>2020-02-17 00:00:00</td>\n",
       "      <td>England</td>\n",
       "      <td>188</td>\n",
       "      <td>B</td>\n",
       "    </tr>\n",
       "    <tr>\n",
       "      <th>1</th>\n",
       "      <td>2020-03-06 00:00:00</td>\n",
       "      <td>England</td>\n",
       "      <td>92</td>\n",
       "      <td>B.55</td>\n",
       "    </tr>\n",
       "    <tr>\n",
       "      <th>2</th>\n",
       "      <td>2020-02-08 00:00:00</td>\n",
       "      <td>England</td>\n",
       "      <td>44</td>\n",
       "      <td>B</td>\n",
       "    </tr>\n",
       "    <tr>\n",
       "      <th>3</th>\n",
       "      <td>2020-03-23 00:00:00</td>\n",
       "      <td>USA</td>\n",
       "      <td>79</td>\n",
       "      <td>B</td>\n",
       "    </tr>\n",
       "    <tr>\n",
       "      <th>4</th>\n",
       "      <td>2020-03-12 00:00:00</td>\n",
       "      <td>Netherlands</td>\n",
       "      <td>83</td>\n",
       "      <td>B.11</td>\n",
       "    </tr>\n",
       "    <tr>\n",
       "      <th>...</th>\n",
       "      <td>...</td>\n",
       "      <td>...</td>\n",
       "      <td>...</td>\n",
       "      <td>...</td>\n",
       "    </tr>\n",
       "    <tr>\n",
       "      <th>8600</th>\n",
       "      <td>2021-11-30 00:00:00</td>\n",
       "      <td>England</td>\n",
       "      <td>211</td>\n",
       "      <td>AY.34.1</td>\n",
       "    </tr>\n",
       "    <tr>\n",
       "      <th>8601</th>\n",
       "      <td>2021-10-24 00:00:00</td>\n",
       "      <td>USA</td>\n",
       "      <td>44</td>\n",
       "      <td>AY.3.1</td>\n",
       "    </tr>\n",
       "    <tr>\n",
       "      <th>8602</th>\n",
       "      <td>2021-11-06 00:00:00</td>\n",
       "      <td>USA</td>\n",
       "      <td>49</td>\n",
       "      <td>AY.39</td>\n",
       "    </tr>\n",
       "    <tr>\n",
       "      <th>8603</th>\n",
       "      <td>2021-11-20 12:00:00</td>\n",
       "      <td>England</td>\n",
       "      <td>46</td>\n",
       "      <td>AY.4.2.1</td>\n",
       "    </tr>\n",
       "    <tr>\n",
       "      <th>8604</th>\n",
       "      <td>2021-11-29 00:00:00</td>\n",
       "      <td>USA</td>\n",
       "      <td>102</td>\n",
       "      <td>AY.122</td>\n",
       "    </tr>\n",
       "  </tbody>\n",
       "</table>\n",
       "<p>8605 rows × 4 columns</p>\n",
       "</div>"
      ],
      "text/plain": [
       "              MedianDate PrimaryLocation  Count Annotation\n",
       "0    2020-02-17 00:00:00         England    188          B\n",
       "1    2020-03-06 00:00:00         England     92       B.55\n",
       "2    2020-02-08 00:00:00         England     44          B\n",
       "3    2020-03-23 00:00:00             USA     79          B\n",
       "4    2020-03-12 00:00:00     Netherlands     83       B.11\n",
       "...                  ...             ...    ...        ...\n",
       "8600 2021-11-30 00:00:00         England    211    AY.34.1\n",
       "8601 2021-10-24 00:00:00             USA     44     AY.3.1\n",
       "8602 2021-11-06 00:00:00             USA     49      AY.39\n",
       "8603 2021-11-20 12:00:00         England     46   AY.4.2.1\n",
       "8604 2021-11-29 00:00:00             USA    102     AY.122\n",
       "\n",
       "[8605 rows x 4 columns]"
      ]
     },
     "execution_count": 11,
     "metadata": {},
     "output_type": "execute_result"
    }
   ],
   "source": [
    "cdf = {k:[] for k in ['MedianDate','PrimaryLocation','Count','Annotation']}\n",
    "for g in [v for v in groups.values() if len(v) > threshold]:\n",
    "    dates = []\n",
    "    locs = {}\n",
    "    annotes = {}\n",
    "    count = 0\n",
    "    for s in g:\n",
    "        try:\n",
    "            dates.append(dt.datetime.strptime(s.id.split(\"|\")[-1],\"%Y-%m-%d\"))\n",
    "            count += 1\n",
    "            loc = s.id.split(\"/\")[0]\n",
    "            if loc not in locs:\n",
    "                locs[loc] = 0\n",
    "            locs[loc] += 1\n",
    "            ann = s.annotations[1]\n",
    "            if ann not in annotes:\n",
    "                annotes[ann] = 0\n",
    "            annotes[ann] += 1\n",
    "        except:\n",
    "            continue\n",
    "    try:\n",
    "        cdf['PrimaryLocation'].append(max([(l,c) for l,c in locs.items()],key=lambda x:x[1])[0])\n",
    "        cdf['Annotation'].append(max([(l,c) for l,c in annotes.items()],key=lambda x:x[1])[0])\n",
    "    except:\n",
    "        continue\n",
    "    cdf['MedianDate'].append(pd.Series(dates).quantile(0.5, interpolation=\"midpoint\"))\n",
    "    cdf['Count'].append(count)\n",
    "cdf = pd.DataFrame(cdf)\n",
    "cdf"
   ]
  },
  {
   "cell_type": "code",
   "execution_count": 12,
   "id": "af4a1e03",
   "metadata": {},
   "outputs": [
    {
     "data": {
      "text/plain": [
       "<AxesSubplot:xlabel='MedianDate,MedianDate'>"
      ]
     },
     "execution_count": 12,
     "metadata": {},
     "output_type": "execute_result"
    },
    {
     "data": {
      "image/png": "[encoded data removed]",
      "text/plain": [
       "<Figure size 432x288 with 1 Axes>"
      ]
     },
     "metadata": {
      "needs_background": "light"
     },
     "output_type": "display_data"
    }
   ],
   "source": [
    "cdf.MedianDate.groupby([cdf['MedianDate'].dt.year,cdf['MedianDate'].dt.month]).count().plot(kind=\"bar\")"
   ]
  },
  {
   "cell_type": "markdown",
   "id": "ae81d694",
   "metadata": {},
   "source": [
    "The bulk of our detections occur in 2021. These are essentially correlated with total sequencing effort, since we're not correcting for the amount of sequencing available at any given time and the impact of that on final group sizes. "
   ]
  },
  {
   "cell_type": "code",
   "execution_count": 13,
   "id": "33731955",
   "metadata": {},
   "outputs": [
    {
     "data": {
      "text/plain": [
       "England             4278\n",
       "USA                 2537\n",
       "Scotland             633\n",
       "Wales                461\n",
       "Switzerland          190\n",
       "Denmark              125\n",
       "Northern_Ireland      91\n",
       "Germany               61\n",
       "AUS                   40\n",
       "Iceland               10\n",
       "DEU                    8\n",
       "NorthernIreland        6\n",
       "Japan                  6\n",
       "BHR                    5\n",
       "HKG                    5\n",
       "Name: PrimaryLocation, dtype: int64"
      ]
     },
     "execution_count": 13,
     "metadata": {},
     "output_type": "execute_result"
    }
   ],
   "source": [
    "cdf.PrimaryLocation.value_counts()[:15]"
   ]
  },
  {
   "cell_type": "markdown",
   "id": "9bc71c52",
   "metadata": {},
   "source": [
    "Similarly, the locations we identify are most commonly England and the USA, as that is the source of the bulk of our sequencing. "
   ]
  },
  {
   "cell_type": "code",
   "execution_count": 14,
   "id": "827d4c36",
   "metadata": {},
   "outputs": [
    {
     "data": {
      "text/plain": [
       "BA.2         6\n",
       "BA.2.7       3\n",
       "BA.2.9       3\n",
       "BA.1.1       2\n",
       "BA.2.12      2\n",
       "BA.2.3       1\n",
       "BA.2.10      1\n",
       "BA.2.12.1    1\n",
       "Name: Annotation, dtype: int64"
      ]
     },
     "execution_count": 14,
     "metadata": {},
     "output_type": "execute_result"
    }
   ],
   "source": [
    "cdf[(cdf.MedianDate > dt.datetime(year=2022,month=3,day=1)) & (cdf.PrimaryLocation == \"USA\")].Annotation.value_counts()"
   ]
  },
  {
   "cell_type": "markdown",
   "id": "27621ed8",
   "metadata": {},
   "source": [
    "Among superspreader events in March 2022 in the USA, they are all variants on Omicron, predictably enough."
   ]
  }
 ],
 "metadata": {
  "kernelspec": {
   "display_name": "Python 3 (ipykernel)",
   "language": "python",
   "name": "python3"
  },
  "language_info": {
   "codemirror_mode": {
    "name": "ipython",
    "version": 3
   },
   "file_extension": ".py",
   "mimetype": "text/x-python",
   "name": "python",
   "nbconvert_exporter": "python",
   "pygments_lexer": "ipython3",
   "version": "3.8.13"
  }
 },
 "nbformat": 4,
 "nbformat_minor": 5
}
